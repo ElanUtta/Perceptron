{
 "cells": [
  {
   "cell_type": "code",
   "execution_count": 57,
   "metadata": {},
   "outputs": [],
   "source": [
    "import numpy as np\n",
    "from sklearn.datasets import load_iris\n",
    "from random import randint\n",
    "from sklearn.preprocessing import StandardScaler\n",
    "from sklearn.cross_validation import train_test_split\n",
    "import pandas as pd"
   ]
  },
  {
   "cell_type": "code",
   "execution_count": 58,
   "metadata": {},
   "outputs": [],
   "source": [
    "#Trabalhando com os dados\n",
    "\n",
    "iris = load_iris()\n",
    "scaler = StandardScaler(with_mean=False)\n",
    "\n",
    "scaler.fit(iris.data)\n",
    "iris.data = scaler.transform(iris.data)#normalização\n",
    "\n",
    "data = iris.data[:100] #dados\n",
    "targ = iris.target[:100] #classe\n",
    "targ[targ == 0] = -1 #transforma a representação da classe como -1\n",
    "\n",
    "data_Train, data_Test, targ_Train, targ_Test = train_test_split(data, targ, test_size=0.25)"
   ]
  },
  {
   "cell_type": "code",
   "execution_count": 78,
   "metadata": {},
   "outputs": [],
   "source": [
    "def w_init():\n",
    "    '''\n",
    "        Generates data weights randomly\n",
    "    '''\n",
    "    a = []\n",
    "    for d in range(4):\n",
    "        a.append(randint(0,100)/100)\n",
    "    return a"
   ]
  },
  {
   "cell_type": "code",
   "execution_count": 79,
   "metadata": {},
   "outputs": [],
   "source": [
    "def output(x, w):\n",
    "    '''\n",
    "        Sum of input with weights\n",
    "    '''\n",
    "    u = []\n",
    "    zipped = zip(x, w)\n",
    "    for s,w in zipped:\n",
    "        u.append(s*w)\n",
    "    return sum(u)"
   ]
  },
  {
   "cell_type": "code",
   "execution_count": 80,
   "metadata": {},
   "outputs": [],
   "source": [
    "def g(out):\n",
    "    '''\n",
    "        Activate function, step\n",
    "    '''\n",
    "    if out >= 0:\n",
    "        return 1\n",
    "    else:\n",
    "        return -1"
   ]
  },
  {
   "cell_type": "code",
   "execution_count": 81,
   "metadata": {},
   "outputs": [],
   "source": [
    "def erro(w,targe, y, x):\n",
    "    '''\n",
    "        Error function\n",
    "    '''\n",
    "    for id in range(len(w)):\n",
    "        w[id] = w[id] + taxa*(targe - y)*x[id]\n",
    "    return w"
   ]
  },
  {
   "cell_type": "code",
   "execution_count": 85,
   "metadata": {},
   "outputs": [],
   "source": [
    "taxa = 0.5 #learning rate\n",
    "w = w_init()#start the weights"
   ]
  },
  {
   "cell_type": "code",
   "execution_count": 86,
   "metadata": {},
   "outputs": [
    {
     "name": "stdout",
     "output_type": "stream",
     "text": [
      "Starting weight:  [0.84, 0.74, 0.38, 0.22]\n",
      "\n",
      "Final weight [2.415182315767466, -3.656656337509008, 3.905673647333647, 3.2438783104455933]\n",
      "Starting weight:  [2.415182315767466, -3.656656337509008, 3.905673647333647, 3.2438783104455933]\n",
      "\n",
      "Final weight [2.415182315767466, -3.656656337509008, 3.905673647333647, 3.2438783104455933]\n"
     ]
    }
   ],
   "source": [
    "#MAIN\n",
    "ciclos = 0\n",
    "erradas = 1\n",
    "\n",
    "\n",
    "while(erradas != 0):\n",
    "    print(\"Starting weight: \", w)\n",
    "    erradas = 0\n",
    "    for obj in range(len(data_Train)):\n",
    "        u = output(data_Train[obj], w)\n",
    "        answer = g(u) \n",
    "        if answer != targ_Train[obj]: \n",
    "            w = erro(w, targ_Train[obj], answer, data_Train[obj])\n",
    "            erradas = erradas + 1\n",
    "    print(\"\\nFinal weight\", w)"
   ]
  },
  {
   "cell_type": "code",
   "execution_count": null,
   "metadata": {},
   "outputs": [],
   "source": []
  },
  {
   "cell_type": "code",
   "execution_count": null,
   "metadata": {},
   "outputs": [],
   "source": []
  }
 ],
 "metadata": {
  "kernelspec": {
   "display_name": "Python 3",
   "language": "python",
   "name": "python3"
  },
  "language_info": {
   "codemirror_mode": {
    "name": "ipython",
    "version": 3
   },
   "file_extension": ".py",
   "mimetype": "text/x-python",
   "name": "python",
   "nbconvert_exporter": "python",
   "pygments_lexer": "ipython3",
   "version": "3.6.5"
  }
 },
 "nbformat": 4,
 "nbformat_minor": 2
}
